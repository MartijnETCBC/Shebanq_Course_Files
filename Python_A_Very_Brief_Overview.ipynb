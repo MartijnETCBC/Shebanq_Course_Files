{
 "cells": [
  {
   "cell_type": "markdown",
   "metadata": {},
   "source": [
    "Some basic things you need to know about the Python language."
   ]
  },
  {
   "cell_type": "markdown",
   "metadata": {},
   "source": [
    "You should know the difference between a string, an integer, a floating number and a boolean.\n",
    "You can add comments after #."
   ]
  },
  {
   "cell_type": "code",
   "execution_count": 51,
   "metadata": {
    "collapsed": false
   },
   "outputs": [
    {
     "name": "stdout",
     "output_type": "stream",
     "text": [
      "<class 'str'> <class 'int'> <class 'float'> <class 'bool'>\n",
      "16\n"
     ]
    }
   ],
   "source": [
    "a = '15' #This is a comment\n",
    "b = 15\n",
    "c = 15.\n",
    "d = False #d is a boolean variable. A boolean can also have the value True.\n",
    "\n",
    "print(type(a), type(b), type(c), type(d))\n",
    "\n",
    "print(int(a) + 1) #if you want to add 1 to a, you should convert it into an integer first"
   ]
  },
  {
   "cell_type": "markdown",
   "metadata": {},
   "source": [
    "The difference between an assignment and 'is equal to'.\n",
    "The if-statement checks if a certain condition is evaluated to the value True."
   ]
  },
  {
   "cell_type": "code",
   "execution_count": 44,
   "metadata": {
    "collapsed": false
   },
   "outputs": [
    {
     "name": "stdout",
     "output_type": "stream",
     "text": [
      "Hello,\n",
      "Eep.\n"
     ]
    }
   ],
   "source": [
    "a = 0 #assignment, assigns the value 0 to the variable a.\n",
    "\n",
    "if a == 0: #is equal to\n",
    "    print('Hello,')\n",
    "if a != 1: #is not equal to\n",
    "    print('Eep.')"
   ]
  },
  {
   "cell_type": "markdown",
   "metadata": {},
   "source": [
    "A list is an ordered sequence of elements. You can add elements to the list with .append()\n",
    "Its elements can be indexed using []."
   ]
  },
  {
   "cell_type": "code",
   "execution_count": 2,
   "metadata": {
    "collapsed": false
   },
   "outputs": [
    {
     "name": "stdout",
     "output_type": "stream",
     "text": [
      "[0, 1, 4, 9, 16, 25, 36, 49, 64, 81, 100, 121, 144, 169, 196]\n",
      "16\n",
      "196\n",
      "169\n"
     ]
    }
   ],
   "source": [
    "a_list = []\n",
    "\n",
    "for number in range(15):\n",
    "    a_list.append(number**2)\n",
    "    \n",
    "print(a_list)\n",
    "print(a_list[4]) #prints the 4th element, Python starts counting at 0.\n",
    "\n",
    "print(a_list[-1]) #this is the last element\n",
    "print(a_list[-2]) #this is the second last element"
   ]
  },
  {
   "cell_type": "markdown",
   "metadata": {},
   "source": [
    "The elements of a list can also be other data types, such as strings or lists."
   ]
  },
  {
   "cell_type": "code",
   "execution_count": 60,
   "metadata": {
    "collapsed": false
   },
   "outputs": [
    {
     "name": "stdout",
     "output_type": "stream",
     "text": [
      "[1, 2]\n",
      "2\n"
     ]
    }
   ],
   "source": [
    "list_of_lists = [[1, 2], [3, 4], [5, 6]]\n",
    "\n",
    "print(list_of_lists[0])\n",
    "print(list_of_lists[0][1]) #we use a double index to access the individual integers"
   ]
  },
  {
   "cell_type": "markdown",
   "metadata": {},
   "source": [
    "A tuple is also an ordered sequence of elements. Its values are immutable. It elements can be indexed with []."
   ]
  },
  {
   "cell_type": "code",
   "execution_count": 58,
   "metadata": {
    "collapsed": false
   },
   "outputs": [
    {
     "name": "stdout",
     "output_type": "stream",
     "text": [
      "5\n"
     ]
    }
   ],
   "source": [
    "this_tuple = (2, 4, 4, 5)\n",
    "print(this_tuple[3])"
   ]
  },
  {
   "cell_type": "markdown",
   "metadata": {},
   "source": [
    "In Python, a += 1 is a short way of writing a = a + 1.\n",
    "Similarly, for subtraction (-), multiplication (*) and division (/).\n",
    "The same for * and /."
   ]
  },
  {
   "cell_type": "code",
   "execution_count": 47,
   "metadata": {
    "collapsed": false
   },
   "outputs": [
    {
     "name": "stdout",
     "output_type": "stream",
     "text": [
      "14\n",
      "13\n",
      "12\n",
      "11\n",
      "10\n",
      "9\n",
      "8\n",
      "7\n",
      "6\n",
      "5\n"
     ]
    }
   ],
   "source": [
    "a = 15\n",
    "\n",
    "for num in range(10):\n",
    "    a -= 1\n",
    "    print(a)"
   ]
  },
  {
   "cell_type": "markdown",
   "metadata": {},
   "source": [
    "Sort a list."
   ]
  },
  {
   "cell_type": "code",
   "execution_count": 37,
   "metadata": {
    "collapsed": false
   },
   "outputs": [
    {
     "name": "stdout",
     "output_type": "stream",
     "text": [
      "[1, 2, 3]\n",
      "[3, 2, 1]\n"
     ]
    }
   ],
   "source": [
    "unsorted_list = [3, 1, 2]\n",
    "print(sorted(unsorted_list))\n",
    "print(sorted(unsorted_list, reverse = True))"
   ]
  },
  {
   "cell_type": "markdown",
   "metadata": {},
   "source": [
    "A list comprehension is a fast and clean way to create a list."
   ]
  },
  {
   "cell_type": "code",
   "execution_count": 9,
   "metadata": {
    "collapsed": false
   },
   "outputs": [
    {
     "name": "stdout",
     "output_type": "stream",
     "text": [
      "[144, 169, 196, 225, 256, 289, 324, 361]\n"
     ]
    }
   ],
   "source": [
    "another_list = [number**2 for number in range(12,20)]\n",
    "print(another_list)"
   ]
  },
  {
   "cell_type": "code",
   "execution_count": null,
   "metadata": {
    "collapsed": true
   },
   "outputs": [],
   "source": [
    "You can also do this with strings."
   ]
  },
  {
   "cell_type": "code",
   "execution_count": 11,
   "metadata": {
    "collapsed": false
   },
   "outputs": [
    {
     "name": "stdout",
     "output_type": "stream",
     "text": [
      "['ChristiaanChristiaan', 'CodyCody', 'MartijnMartijn']\n"
     ]
    }
   ],
   "source": [
    "str_list = ['Christiaan', 'Cody', 'Martijn']\n",
    "name_list = [name + name for name in str_list]\n",
    "print(name_list)"
   ]
  },
  {
   "cell_type": "code",
   "execution_count": null,
   "metadata": {
    "collapsed": true
   },
   "outputs": [],
   "source": [
    "A dictionary is a structure which contains key-value pairs."
   ]
  },
  {
   "cell_type": "code",
   "execution_count": 26,
   "metadata": {
    "collapsed": false
   },
   "outputs": [
    {
     "name": "stdout",
     "output_type": "stream",
     "text": [
      "Amsterdam\n"
     ]
    }
   ],
   "source": [
    "geo_dict = {'Netherlands': 'Amsterdam', 'Germany': 'Berlin', 'Belgium': 'Brussels', 'Italy': 'Rome'}\n",
    "print(geo_dict['Netherlands']) #returns the value of the key 'Netherlands'."
   ]
  },
  {
   "cell_type": "markdown",
   "metadata": {},
   "source": [
    "You can add new key:value pairs to a dictionary."
   ]
  },
  {
   "cell_type": "code",
   "execution_count": 49,
   "metadata": {
    "collapsed": false
   },
   "outputs": [
    {
     "name": "stdout",
     "output_type": "stream",
     "text": [
      "{'Belgium': 'Brussels', 'USA': 'Baton Rouge', 'Netherlands': 'Amsterdam', 'Italy': 'Rome', 'Germany': 'Berlin'}\n"
     ]
    }
   ],
   "source": [
    "geo_dict['USA'] = 'Baton Rouge'\n",
    "print(geo_dict)"
   ]
  },
  {
   "cell_type": "code",
   "execution_count": null,
   "metadata": {
    "collapsed": true
   },
   "outputs": [],
   "source": [
    "If you want to iterate over all keys in a dictionary, use .keys()"
   ]
  },
  {
   "cell_type": "code",
   "execution_count": 27,
   "metadata": {
    "collapsed": false
   },
   "outputs": [
    {
     "name": "stdout",
     "output_type": "stream",
     "text": [
      "Brussels\n",
      "Amsterdam\n",
      "Rome\n",
      "Berlin\n"
     ]
    }
   ],
   "source": [
    "for country in geo_dict.keys():\n",
    "    print(geo_dict[country])"
   ]
  },
  {
   "cell_type": "markdown",
   "metadata": {},
   "source": [
    "There is no order in a dictionary. If you want to get the capitals in a certain order, you need an alternative solution, for instance an iteration over an ordered structure like a list."
   ]
  },
  {
   "cell_type": "markdown",
   "metadata": {},
   "source": [
    "With the for loop you make such an iteration."
   ]
  },
  {
   "cell_type": "code",
   "execution_count": 28,
   "metadata": {
    "collapsed": false
   },
   "outputs": [
    {
     "name": "stdout",
     "output_type": "stream",
     "text": [
      "Amsterdam\n",
      "Berlin\n",
      "Brussels\n",
      "Rome\n"
     ]
    }
   ],
   "source": [
    "for country in ['Netherlands', 'Germany', 'Belgium', 'Italy']:\n",
    "    print(geo_dict[country]) #returns capitals in alphabetical order"
   ]
  },
  {
   "cell_type": "code",
   "execution_count": null,
   "metadata": {
    "collapsed": true
   },
   "outputs": [],
   "source": [
    "You can also use a dictionary comprehension."
   ]
  },
  {
   "cell_type": "code",
   "execution_count": 24,
   "metadata": {
    "collapsed": false
   },
   "outputs": [
    {
     "name": "stdout",
     "output_type": "stream",
     "text": [
      "{25: 625, 26: 676, 27: 729, 28: 784, 29: 841}\n",
      "784\n"
     ]
    }
   ],
   "source": [
    "new_dict = {num:num**2 for num in range(25,30)}\n",
    "print(new_dict)\n",
    "print(new_dict[28])"
   ]
  },
  {
   "cell_type": "markdown",
   "metadata": {},
   "source": [
    "With while you repeat a loop until a specific condition is not evaluated to the value True anymore."
   ]
  },
  {
   "cell_type": "code",
   "execution_count": 45,
   "metadata": {
    "collapsed": false
   },
   "outputs": [
    {
     "name": "stdout",
     "output_type": "stream",
     "text": [
      "10\n",
      "9\n",
      "8\n",
      "7\n",
      "6\n",
      "5\n",
      "4\n",
      "3\n",
      "2\n",
      "1\n"
     ]
    }
   ],
   "source": [
    "number = 10\n",
    "\n",
    "while number > 0:\n",
    "    print(number)\n",
    "    number -= 1"
   ]
  },
  {
   "cell_type": "markdown",
   "metadata": {},
   "source": [
    "You use a function for operations that have to be done more than once in a program."
   ]
  },
  {
   "cell_type": "code",
   "execution_count": 54,
   "metadata": {
    "collapsed": false
   },
   "outputs": [
    {
     "data": {
      "text/plain": [
       "216"
      ]
     },
     "execution_count": 54,
     "metadata": {},
     "output_type": "execute_result"
    }
   ],
   "source": [
    "def cubic_calculator(num):\n",
    "    new_num = num**3\n",
    "    return(new_num)\n",
    "\n",
    "print(cubic_calculator(4))\n",
    "print(cubic_calculator(6))"
   ]
  },
  {
   "cell_type": "markdown",
   "metadata": {},
   "source": [
    "A function often has more than one argument. An argument can have a default value."
   ]
  },
  {
   "cell_type": "code",
   "execution_count": 57,
   "metadata": {
    "collapsed": false
   },
   "outputs": [
    {
     "name": "stdout",
     "output_type": "stream",
     "text": [
      "22\n",
      "15\n"
     ]
    }
   ],
   "source": [
    "def addition(num_a, num_b = 5):\n",
    "    num_c = num_a + num_b\n",
    "    return(num_c)\n",
    "\n",
    "print(addition(10, 12))\n",
    "print(addition(10))"
   ]
  }
 ],
 "metadata": {
  "anaconda-cloud": {},
  "kernelspec": {
   "display_name": "Python [default]",
   "language": "python",
   "name": "python3"
  },
  "language_info": {
   "codemirror_mode": {
    "name": "ipython",
    "version": 3
   },
   "file_extension": ".py",
   "mimetype": "text/x-python",
   "name": "python",
   "nbconvert_exporter": "python",
   "pygments_lexer": "ipython3",
   "version": "3.5.2"
  }
 },
 "nbformat": 4,
 "nbformat_minor": 1
}
